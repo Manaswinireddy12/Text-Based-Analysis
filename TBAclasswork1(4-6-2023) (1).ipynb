{
 "cells": [
  {
   "cell_type": "markdown",
   "id": "b7962c1f",
   "metadata": {},
   "source": [
    "# string functions"
   ]
  },
  {
   "cell_type": "code",
   "execution_count": 1,
   "id": "c7ceda14",
   "metadata": {},
   "outputs": [
    {
     "data": {
      "text/plain": [
       "'hello'"
      ]
     },
     "execution_count": 1,
     "metadata": {},
     "output_type": "execute_result"
    }
   ],
   "source": [
    "a=\"hello\"\n",
    "a"
   ]
  },
  {
   "cell_type": "code",
   "execution_count": 2,
   "id": "528b1537",
   "metadata": {},
   "outputs": [
    {
     "name": "stdout",
     "output_type": "stream",
     "text": [
      "e\n"
     ]
    }
   ],
   "source": [
    "#Accessing individual letters\n",
    "a = \"Hello, World!\"\n",
    "print(a[1])"
   ]
  },
  {
   "cell_type": "code",
   "execution_count": 3,
   "id": "ed59ac5b",
   "metadata": {},
   "outputs": [
    {
     "name": "stdout",
     "output_type": "stream",
     "text": [
      "llo\n"
     ]
    }
   ],
   "source": [
    "b = \"Hello, World!\"\n",
    "print(b[2:5])"
   ]
  },
  {
   "cell_type": "code",
   "execution_count": 4,
   "id": "19df5a4c",
   "metadata": {
    "scrolled": false
   },
   "outputs": [
    {
     "name": "stdout",
     "output_type": "stream",
     "text": [
      "13\n",
      "HELLO, WORLD!\n",
      "hello, world!\n",
      "Jello, World!\n"
     ]
    }
   ],
   "source": [
    "print(len(a)) #prints the length of the string\n",
    "print(a.upper()) #prints the string in upper case\n",
    "print(a.lower()) #prints the string in lower case\n",
    "print(a.replace(\"H\", \"J\")) #prints by replacing the letters"
   ]
  },
  {
   "cell_type": "markdown",
   "id": "0c700e11",
   "metadata": {},
   "source": [
    "# String Concatenation"
   ]
  },
  {
   "cell_type": "code",
   "execution_count": 5,
   "id": "fcc3576f",
   "metadata": {},
   "outputs": [
    {
     "name": "stdout",
     "output_type": "stream",
     "text": [
      "Hello World\n"
     ]
    }
   ],
   "source": [
    "#c will give the ouput by concatenating both a and b.\n",
    "a = \"Hello\"\n",
    "b = \"World\"\n",
    "c = a + \" \" + b\n",
    "print(c)"
   ]
  },
  {
   "cell_type": "markdown",
   "id": "ba009141",
   "metadata": {},
   "source": [
    "# String Methods"
   ]
  },
  {
   "cell_type": "code",
   "execution_count": 6,
   "id": "509d17f9",
   "metadata": {},
   "outputs": [
    {
     "data": {
      "text/plain": [
       "False"
      ]
     },
     "execution_count": 6,
     "metadata": {},
     "output_type": "execute_result"
    }
   ],
   "source": [
    "#isupper() is used to check weather the string is in upper case or not.Gives false because the string is in lower case\n",
    "a=\"manu\"\n",
    "a.isupper()\n"
   ]
  },
  {
   "cell_type": "code",
   "execution_count": 7,
   "id": "468de62b",
   "metadata": {},
   "outputs": [
    {
     "data": {
      "text/plain": [
       "True"
      ]
     },
     "execution_count": 7,
     "metadata": {},
     "output_type": "execute_result"
    }
   ],
   "source": [
    "#ilower() is used to check weather the string is in lower case or not.Gives true because the string is in lower case\n",
    "a.islower()"
   ]
  },
  {
   "cell_type": "code",
   "execution_count": 8,
   "id": "258bdd42",
   "metadata": {},
   "outputs": [
    {
     "name": "stdout",
     "output_type": "stream",
     "text": [
      "manu* *manu manu\n"
     ]
    }
   ],
   "source": [
    "#lstrip() removes the character in the string \n",
    "#rstrip() removes the right side character of the string\n",
    "#lstring() removes the left side charcater of the string\n",
    "a=\"*manu*\"\n",
    "print(a.lstrip(\"*\"),a.rstrip(\"*\"),a.strip(\"*\"))"
   ]
  },
  {
   "cell_type": "code",
   "execution_count": 9,
   "id": "6a25b456",
   "metadata": {},
   "outputs": [
    {
     "data": {
      "text/plain": [
       "'Manu Reddy'"
      ]
     },
     "execution_count": 9,
     "metadata": {},
     "output_type": "execute_result"
    }
   ],
   "source": [
    "a=\" Manu Reddy\"\n",
    "a.lstrip()"
   ]
  },
  {
   "cell_type": "code",
   "execution_count": 10,
   "id": "62b02538",
   "metadata": {},
   "outputs": [
    {
     "name": "stdout",
     "output_type": "stream",
     "text": [
      "True True 10 Manaswini Beereddy\n"
     ]
    }
   ],
   "source": [
    "#endswith(substring)-returns true ifthe string ends with substring\n",
    "#startswith(substring)-returns true if the string starts with substring.\n",
    "#find(substring)-returns thelowest index in the string where substring is found.\n",
    "#replace(old, new)-returns acopy of the string with all instances of old replaced by new\n",
    "a=\"Manaswini Reddy\"\n",
    "print(a.endswith(\"Reddy\"),a.startswith(\"Manaswini\"),a.find(\"Reddy\"),a.replace(\"Reddy\",\"Beereddy\"))"
   ]
  },
  {
   "cell_type": "code",
   "execution_count": 11,
   "id": "98d12914",
   "metadata": {},
   "outputs": [
    {
     "data": {
      "text/plain": [
       "['SRH', 'forever']"
      ]
     },
     "execution_count": 11,
     "metadata": {},
     "output_type": "execute_result"
    }
   ],
   "source": [
    "#split()-returns a list containing the words inthe string\n",
    "a=\"SRH forever\"\n",
    "a.split()"
   ]
  },
  {
   "cell_type": "code",
   "execution_count": 12,
   "id": "545ba29f",
   "metadata": {},
   "outputs": [
    {
     "data": {
      "text/plain": [
       "['SRH forever']"
      ]
     },
     "execution_count": 12,
     "metadata": {},
     "output_type": "execute_result"
    }
   ],
   "source": [
    "#Can specify a different separator by passing it as anargument to the split method\n",
    "a.split(\",\")"
   ]
  },
  {
   "cell_type": "code",
   "execution_count": 13,
   "id": "c9e54c0b",
   "metadata": {},
   "outputs": [
    {
     "data": {
      "text/plain": [
       "['peach', 'raspberry', 'strawberry', 'vanilla']"
      ]
     },
     "execution_count": 13,
     "metadata": {},
     "output_type": "execute_result"
    }
   ],
   "source": [
    "#String Tokens\n",
    "str = 'peach raspberry strawberry vanilla'\n",
    "tokens = str.split()\n",
    "tokens"
   ]
  },
  {
   "cell_type": "markdown",
   "id": "3248c166",
   "metadata": {},
   "source": [
    "# Regular Expressions"
   ]
  },
  {
   "cell_type": "code",
   "execution_count": 14,
   "id": "3d2c700c",
   "metadata": {},
   "outputs": [
    {
     "data": {
      "text/plain": [
       "['abc', 'abc', 'abc', 'abc', 'abc']"
      ]
     },
     "execution_count": 14,
     "metadata": {},
     "output_type": "execute_result"
    }
   ],
   "source": [
    "#Tokenizes input text by finding all non-overlapping occurrences of 'abc'\n",
    "import regex as re\n",
    "def tokenize(text):\n",
    "    return re.findall(r'abc', text)\n",
    "x = tokenize(\"abcd 45abc  abc%   abc.com  acbrx  .=.abc.=.   ab c  cba  ABC  \")\n",
    "x\n"
   ]
  },
  {
   "cell_type": "code",
   "execution_count": 15,
   "id": "73a3d425",
   "metadata": {},
   "outputs": [
    {
     "data": {
      "text/plain": [
       "['gooey', 'moody', 'roody', 'goofy', 'loopy']"
      ]
     },
     "execution_count": 15,
     "metadata": {},
     "output_type": "execute_result"
    }
   ],
   "source": [
    "# Returns a list of substrings matching the pattern: character, 'oo', any character, 'y'.\n",
    "import regex as re\n",
    "def tokenize(text):\n",
    "    return re.findall(r'.oo.y', text)\n",
    "x = tokenize(\" abcd gooey moody broody  goofy gummy  mooooudy  loopy  ooy \")\n",
    "x\n"
   ]
  },
  {
   "cell_type": "code",
   "execution_count": 16,
   "id": "60397df1",
   "metadata": {},
   "outputs": [
    {
     "data": {
      "text/plain": [
       "['abc.abc.com', 'abc.abc,com']"
      ]
     },
     "execution_count": 16,
     "metadata": {},
     "output_type": "execute_result"
    }
   ],
   "source": [
    "# Finds occurrences of 'abc.abc.com' in text, sensitive to exact match including the dot.\n",
    "def tokenize(text):\n",
    "    return re.findall(r'abc\\.abc.com', text)\n",
    "x = tokenize(\"abc.abc.com   abc.abc,com   abc,abc.com   ABC.abc.com \")\n",
    "x\n"
   ]
  },
  {
   "cell_type": "code",
   "execution_count": null,
   "id": "532f2671",
   "metadata": {},
   "outputs": [],
   "source": []
  },
  {
   "cell_type": "code",
   "execution_count": null,
   "id": "2e68395b",
   "metadata": {},
   "outputs": [],
   "source": []
  }
 ],
 "metadata": {
  "kernelspec": {
   "display_name": "Python 3 (ipykernel)",
   "language": "python",
   "name": "python3"
  },
  "language_info": {
   "codemirror_mode": {
    "name": "ipython",
    "version": 3
   },
   "file_extension": ".py",
   "mimetype": "text/x-python",
   "name": "python",
   "nbconvert_exporter": "python",
   "pygments_lexer": "ipython3",
   "version": "3.11.5"
  }
 },
 "nbformat": 4,
 "nbformat_minor": 5
}
