{
 "cells": [
  {
   "cell_type": "code",
   "execution_count": 1,
   "id": "2a7f1f86",
   "metadata": {},
   "outputs": [
    {
     "data": {
      "text/plain": [
       "'hello'"
      ]
     },
     "execution_count": 1,
     "metadata": {},
     "output_type": "execute_result"
    }
   ],
   "source": [
    "a=\"hello\"\n",
    "a"
   ]
  },
  {
   "cell_type": "code",
   "execution_count": 2,
   "id": "528b1537",
   "metadata": {},
   "outputs": [
    {
     "name": "stdout",
     "output_type": "stream",
     "text": [
      "e\n"
     ]
    }
   ],
   "source": [
    "a = \"Hello, World!\"\n",
    "print(a[1])"
   ]
  },
  {
   "cell_type": "code",
   "execution_count": 3,
   "id": "ed59ac5b",
   "metadata": {},
   "outputs": [
    {
     "name": "stdout",
     "output_type": "stream",
     "text": [
      "llo\n"
     ]
    }
   ],
   "source": [
    "b = \"Hello, World!\"\n",
    "print(b[2:5])"
   ]
  },
  {
   "cell_type": "code",
   "execution_count": 5,
   "id": "19df5a4c",
   "metadata": {
    "scrolled": false
   },
   "outputs": [
    {
     "name": "stdout",
     "output_type": "stream",
     "text": [
      "13\n",
      "HELLO, WORLD!\n",
      "hello, world!\n",
      "Jello, World!\n"
     ]
    }
   ],
   "source": [
    "print(len(a))\n",
    "print(a.upper())\n",
    "print(a.lower())\n",
    "print(a.replace(\"H\", \"J\"))"
   ]
  },
  {
   "cell_type": "code",
   "execution_count": 6,
   "id": "fcc3576f",
   "metadata": {},
   "outputs": [
    {
     "name": "stdout",
     "output_type": "stream",
     "text": [
      "Hello World\n"
     ]
    }
   ],
   "source": [
    "a = \"Hello\"\n",
    "b = \"World\"\n",
    "c = a + \" \" + b\n",
    "print(c)"
   ]
  },
  {
   "cell_type": "code",
   "execution_count": 11,
   "id": "509d17f9",
   "metadata": {},
   "outputs": [
    {
     "data": {
      "text/plain": [
       "False"
      ]
     },
     "execution_count": 11,
     "metadata": {},
     "output_type": "execute_result"
    }
   ],
   "source": [
    "a=\"manu\"\n",
    "a.isupper()\n"
   ]
  },
  {
   "cell_type": "code",
   "execution_count": 12,
   "id": "468de62b",
   "metadata": {},
   "outputs": [
    {
     "data": {
      "text/plain": [
       "True"
      ]
     },
     "execution_count": 12,
     "metadata": {},
     "output_type": "execute_result"
    }
   ],
   "source": [
    "a.islower()"
   ]
  },
  {
   "cell_type": "code",
   "execution_count": 19,
   "id": "258bdd42",
   "metadata": {},
   "outputs": [
    {
     "name": "stdout",
     "output_type": "stream",
     "text": [
      "manu* *manu manu\n"
     ]
    }
   ],
   "source": [
    "a=\"*manu*\"\n",
    "print(a.lstrip(\"*\"),a.rstrip(\"*\"),a.strip(\"*\"))"
   ]
  },
  {
   "cell_type": "code",
   "execution_count": 27,
   "id": "6a25b456",
   "metadata": {},
   "outputs": [
    {
     "data": {
      "text/plain": [
       "'Manu Reddy'"
      ]
     },
     "execution_count": 27,
     "metadata": {},
     "output_type": "execute_result"
    }
   ],
   "source": [
    "a=\" Manu Reddy\"\n",
    "a.lstrip()"
   ]
  },
  {
   "cell_type": "code",
   "execution_count": 24,
   "id": "62b02538",
   "metadata": {},
   "outputs": [
    {
     "name": "stdout",
     "output_type": "stream",
     "text": [
      "True True 10 Manaswini Beereddy\n"
     ]
    }
   ],
   "source": [
    "a=\"Manaswini Reddy\"\n",
    "print(a.endswith(\"Reddy\"),a.startswith(\"Manaswini\"),a.find(\"Reddy\"),a.replace(\"Reddy\",\"Beereddy\"))"
   ]
  },
  {
   "cell_type": "code",
   "execution_count": 28,
   "id": "98d12914",
   "metadata": {},
   "outputs": [
    {
     "data": {
      "text/plain": [
       "['SRH', 'forever']"
      ]
     },
     "execution_count": 28,
     "metadata": {},
     "output_type": "execute_result"
    }
   ],
   "source": [
    "a=\"SRH forever\"\n",
    "a.split()"
   ]
  },
  {
   "cell_type": "code",
   "execution_count": 29,
   "id": "545ba29f",
   "metadata": {},
   "outputs": [
    {
     "data": {
      "text/plain": [
       "['SRH forever']"
      ]
     },
     "execution_count": 29,
     "metadata": {},
     "output_type": "execute_result"
    }
   ],
   "source": [
    "a.split(\",\")"
   ]
  },
  {
   "cell_type": "code",
   "execution_count": 30,
   "id": "3d2c700c",
   "metadata": {},
   "outputs": [
    {
     "data": {
      "text/plain": [
       "['abc', 'abc', 'abc', 'abc', 'abc']"
      ]
     },
     "execution_count": 30,
     "metadata": {},
     "output_type": "execute_result"
    }
   ],
   "source": [
    "import regex as re\n",
    "def tokenize(text):\n",
    "    return re.findall(r'abc', text)\n",
    "x = tokenize(\"abcd 45abc  abc%   abc.com  acbrx  .=.abc.=.   ab c  cba  ABC  \")\n",
    "x\n"
   ]
  },
  {
   "cell_type": "code",
   "execution_count": 31,
   "id": "73a3d425",
   "metadata": {},
   "outputs": [
    {
     "data": {
      "text/plain": [
       "['gooey', 'moody', 'roody', 'goofy', 'loopy']"
      ]
     },
     "execution_count": 31,
     "metadata": {},
     "output_type": "execute_result"
    }
   ],
   "source": [
    "import regex as re\n",
    "def tokenize(text):\n",
    "    return re.findall(r'.oo.y', text)\n",
    "x = tokenize(\" abcd gooey moody broody  goofy gummy  mooooudy  loopy  ooy \")\n",
    "x\n"
   ]
  },
  {
   "cell_type": "code",
   "execution_count": 32,
   "id": "60397df1",
   "metadata": {},
   "outputs": [
    {
     "data": {
      "text/plain": [
       "['abc.abc.com', 'abc.abc,com']"
      ]
     },
     "execution_count": 32,
     "metadata": {},
     "output_type": "execute_result"
    }
   ],
   "source": [
    "def tokenize(text):\n",
    "    return re.findall(r'abc\\.abc.com', text)\n",
    "x = tokenize(\"abc.abc.com   abc.abc,com   abc,abc.com   ABC.abc.com \")\n",
    "x\n"
   ]
  },
  {
   "cell_type": "code",
   "execution_count": null,
   "id": "532f2671",
   "metadata": {},
   "outputs": [],
   "source": []
  }
 ],
 "metadata": {
  "kernelspec": {
   "display_name": "Python 3 (ipykernel)",
   "language": "python",
   "name": "python3"
  },
  "language_info": {
   "codemirror_mode": {
    "name": "ipython",
    "version": 3
   },
   "file_extension": ".py",
   "mimetype": "text/x-python",
   "name": "python",
   "nbconvert_exporter": "python",
   "pygments_lexer": "ipython3",
   "version": "3.11.5"
  }
 },
 "nbformat": 4,
 "nbformat_minor": 5
}
