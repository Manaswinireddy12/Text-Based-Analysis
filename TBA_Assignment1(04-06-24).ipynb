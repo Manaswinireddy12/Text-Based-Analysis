{
 "cells": [
  {
   "cell_type": "markdown",
   "id": "5824a630",
   "metadata": {},
   "source": [
    "# Assignment1"
   ]
  },
  {
   "cell_type": "markdown",
   "id": "10b6e79a",
   "metadata": {},
   "source": [
    "## Accessing individual characters in a string.\n",
    "Individual characters within a string can be retrieved using indexing with square brackets ([]). Python strings are zero-indexed, which means that the first character is indexed at 0."
   ]
  },
  {
   "cell_type": "markdown",
   "id": "c83a5cbe",
   "metadata": {},
   "source": [
    "## String concatenation\n",
    "The + operator allows you to connect or concatenate strings. This procedure generates a new string that includes the characters from both operand strings. The += operator appends one string to another, changing the original variable."
   ]
  },
  {
   "cell_type": "markdown",
   "id": "0da47a79",
   "metadata": {},
   "source": [
    "## Strings are immutable.\n",
    "Once a string is created, it cannot be changed. Any operation that appears to modify a string produces a new string."
   ]
  },
  {
   "cell_type": "markdown",
   "id": "6e1aa0d2",
   "metadata": {},
   "source": [
    "## String slicing\n",
    "Slicing lets you extract a substring from a string. This is accomplished by supplying the start and finish coordinates, with an optional step. Slicing can also use negative indices to begin counting at the end of a string."
   ]
  },
  {
   "cell_type": "markdown",
   "id": "e0056793",
   "metadata": {},
   "source": [
    "## More String Functions\n",
    "The examples contain string techniques such as lower(), upper(), replace(), isupper(), lstrip(), rstrip(), strip(), endswith(), startswith(), find(), and split(). These methods are used to convert cases, remove whitespace, substitute substrings, check string prefixes and suffixes, locate substrings, and break strings into lists."
   ]
  },
  {
   "cell_type": "markdown",
   "id": "b7975d2f",
   "metadata": {},
   "source": [
    "## String Testing Methods:\n",
    "The methods isalnum(), isalpha(), isdigit(), and isspace() check strings for the existence of alphanumeric characters, alphabetic characters, digits, and whitespace, respectively. These methods return True or False, depending on whether the string matches the criteria."
   ]
  },
  {
   "cell_type": "markdown",
   "id": "2dc9ffc1",
   "metadata": {},
   "source": [
    "## Use of \"not in\" keyword\n",
    "The \"not in\" keyword is used to check membership, that is, to see if a specific element does not exist within a container such as a list, string, or tuple."
   ]
  },
  {
   "cell_type": "code",
   "execution_count": 1,
   "id": "691145ec",
   "metadata": {},
   "outputs": [
    {
     "name": "stdout",
     "output_type": "stream",
     "text": [
      "The price of fries is 1 dollars and 99 cents.\n"
     ]
    }
   ],
   "source": [
    "#format() Method: Allows you to format selected parts of a string. Placeholders {} are replaced with the arguments of the method.\n",
    "text = \"The price of {0} is {1} dollars and {2} cents.\".format(\"fries\", 1, 99)\n",
    "print(text)"
   ]
  },
  {
   "cell_type": "code",
   "execution_count": 2,
   "id": "d3abc43d",
   "metadata": {},
   "outputs": [
    {
     "name": "stdout",
     "output_type": "stream",
     "text": [
      "The price of fries is 1.99 dollars.\n"
     ]
    }
   ],
   "source": [
    "#f-Strings (Formatted String Literals): Introduced in Python 3.6, f-strings offer a concise and readable way to include the value of Python expressions inside strings. Variables are mentioned directly within the string literal, preceded by an f\n",
    "fruit = \"fries\"\n",
    "price = 1.99\n",
    "text = f\"The price of {fruit} is {price} dollars.\"\n",
    "print(text)\n"
   ]
  },
  {
   "cell_type": "markdown",
   "id": "0a51f95c",
   "metadata": {},
   "source": [
    "we've covered lstrip(), rstrip(), and strip() for removing whitespace. These methods can also remove specified characters, not just whitespace."
   ]
  },
  {
   "cell_type": "code",
   "execution_count": 3,
   "id": "b4a1871e",
   "metadata": {},
   "outputs": [
    {
     "name": "stdout",
     "output_type": "stream",
     "text": [
      "Hello world\n"
     ]
    }
   ],
   "source": [
    "#join() Method: Joins the elements of an iterable (like a list) into a single string, separated by the string it is called on.\n",
    "words = ['Hello', 'world']\n",
    "sentence = ' '.join(words)\n",
    "print(sentence)"
   ]
  },
  {
   "cell_type": "code",
   "execution_count": 4,
   "id": "54369f68",
   "metadata": {},
   "outputs": [
    {
     "name": "stdout",
     "output_type": "stream",
     "text": [
      "True\n"
     ]
    }
   ],
   "source": [
    "#isnumeric(): Returns True if all characters in the string are numeric characters.\n",
    "num = \"123456\"\n",
    "print(num.isnumeric())  "
   ]
  },
  {
   "cell_type": "code",
   "execution_count": 5,
   "id": "f9076ce2",
   "metadata": {},
   "outputs": [
    {
     "name": "stdout",
     "output_type": "stream",
     "text": [
      "True\n"
     ]
    }
   ],
   "source": [
    "#isalnum(): Checks if all characters in the text are alphanumeric (letters or numbers)\n",
    "text = \"Python3\"\n",
    "print(text.isalnum())  "
   ]
  },
  {
   "cell_type": "code",
   "execution_count": 6,
   "id": "a3e9fc18",
   "metadata": {},
   "outputs": [
    {
     "name": "stdout",
     "output_type": "stream",
     "text": [
      "True\n"
     ]
    }
   ],
   "source": [
    "#istitle(): Returns True if the string follows the rule for titles (each word starts with an uppercase letter followed by lowercase letters).\n",
    "title = \"Hello World\"\n",
    "print(title.istitle())  \n"
   ]
  },
  {
   "cell_type": "markdown",
   "id": "e55ebeb7",
   "metadata": {},
   "source": [
    "## Accessing String Elements"
   ]
  },
  {
   "cell_type": "code",
   "execution_count": 7,
   "id": "b8281974",
   "metadata": {},
   "outputs": [
    {
     "name": "stdout",
     "output_type": "stream",
     "text": [
      "Index: 0, Letter: h\n",
      "Index: 1, Letter: e\n",
      "Index: 2, Letter: l\n",
      "Index: 3, Letter: l\n",
      "Index: 4, Letter: o\n"
     ]
    }
   ],
   "source": [
    "#Enumerating Characters: Use enumerate() to get both the index and the value of each character in a string.\n",
    "for index, letter in enumerate(\"hello\"):\n",
    "    print(f\"Index: {index}, Letter: {letter}\")\n"
   ]
  },
  {
   "cell_type": "code",
   "execution_count": 8,
   "id": "df39f79a",
   "metadata": {},
   "outputs": [
    {
     "name": "stdout",
     "output_type": "stream",
     "text": [
      "C:\\new_folder\\test.txt\n"
     ]
    }
   ],
   "source": [
    "#Raw String Notation: Prevents escape sequences (like \\n for a new line) from being interpreted. Useful for regex patterns and file paths.\n",
    "path = r\"C:\\new_folder\\test.txt\"\n",
    "print(path)  "
   ]
  },
  {
   "cell_type": "code",
   "execution_count": 9,
   "id": "d3952360",
   "metadata": {},
   "outputs": [
    {
     "name": "stdout",
     "output_type": "stream",
     "text": [
      "Hello world\n"
     ]
    }
   ],
   "source": [
    "#capitalize(): Capitalizes the first letter of the string and makes all other characters lowercase.\n",
    "text = \"hello world\"\n",
    "print(text.capitalize())  "
   ]
  },
  {
   "cell_type": "code",
   "execution_count": 10,
   "id": "8129e038",
   "metadata": {},
   "outputs": [
    {
     "name": "stdout",
     "output_type": "stream",
     "text": [
      "pYTHON is fUN\n"
     ]
    }
   ],
   "source": [
    "#swapcase(): Swaps uppercase characters to lowercase and vice versa in the string.\n",
    "swap_text = \"Python IS Fun\"\n",
    "print(swap_text.swapcase())  "
   ]
  },
  {
   "cell_type": "code",
   "execution_count": 11,
   "id": "fe89339b",
   "metadata": {},
   "outputs": [
    {
     "name": "stdout",
     "output_type": "stream",
     "text": [
      "['apple,banana', 'cherry']\n"
     ]
    }
   ],
   "source": [
    "#rsplit(): Splits the string at the specified separator and returns a list. If no separator is specified, splitting is done at whitespaces.\n",
    "text = \"apple,banana,cherry\"\n",
    "print(text.rsplit(\",\", 1)) "
   ]
  },
  {
   "cell_type": "code",
   "execution_count": 12,
   "id": "46812cfa",
   "metadata": {},
   "outputs": [
    {
     "name": "stdout",
     "output_type": "stream",
     "text": [
      "('The ', 'quick', ' brown fox')\n"
     ]
    }
   ],
   "source": [
    "#partition(separator): Searches for the separator in the string and returns a tuple containing the part before it, the separator itself, and the part after it.\n",
    "text = \"The quick brown fox\"\n",
    "print(text.partition(\"quick\")) "
   ]
  },
  {
   "cell_type": "code",
   "execution_count": null,
   "id": "d8bc9a77",
   "metadata": {},
   "outputs": [],
   "source": []
  },
  {
   "cell_type": "markdown",
   "id": "72302a30",
   "metadata": {},
   "source": [
    "# Regular Expressions\n",
    ".: Matches any character except newline.\n",
    "|: Logical OR (e.g., a|b matches a or b).\n",
    "\\s: Matches any whitespace.\n",
    "\\S: Matches any non-whitespace.\n",
    "\\d: Matches digits (0-9).\n",
    "\\D: Matches non-digits.\n",
    "\\w: Matches word characters (letters, digits, underscore).\n",
    "\\W: Matches non-word characters.\n",
    "?: Zero or one occurrence.\n",
    "*: Zero or more occurrences.\n",
    "+: One or more occurrences.\n",
    "{n}: Exactly n occurrences.\n",
    "{n,}: n or more occurrences.\n",
    "{n,m}: Between n and m occurrences.\n",
    "^: Start of the string.\n",
    "$: End of the string.\n",
    "(?:...): Non-capturing group.\n",
    "(...): Capturing group.\n",
    "[^...]: Negated set."
   ]
  },
  {
   "cell_type": "markdown",
   "id": "47ab5c1b",
   "metadata": {},
   "source": [
    "## Regex 1"
   ]
  },
  {
   "cell_type": "code",
   "execution_count": 13,
   "id": "bf843fe0",
   "metadata": {},
   "outputs": [
    {
     "name": "stdout",
     "output_type": "stream",
     "text": [
      "Phone numbers found:\n",
      "415-545-1934\n",
      "415.554.1238\n"
     ]
    }
   ],
   "source": [
    "import re\n",
    "\n",
    "text = \"For enquires, call 415-545-1934 or 415.554.1238.\"\n",
    "\n",
    "pattern = r'\\b\\d{3}[-.]\\d{3}[-.]\\d{4}\\b'\n",
    "\n",
    "matches = re.findall(pattern, text)\n",
    "\n",
    "print(\"Phone numbers found:\")\n",
    "for match in matches:\n",
    "    print(match)\n"
   ]
  },
  {
   "cell_type": "markdown",
   "id": "26556fc3",
   "metadata": {},
   "source": [
    "## Regex 2"
   ]
  },
  {
   "cell_type": "code",
   "execution_count": 14,
   "id": "49203537",
   "metadata": {},
   "outputs": [
    {
     "name": "stdout",
     "output_type": "stream",
     "text": [
      "Dates found:\n",
      "04-21-2024\n"
     ]
    }
   ],
   "source": [
    "import re\n",
    "\n",
    "text = \"The match is scheduled for 04-21-2024 at Hyderabad.\"\n",
    "\n",
    "pattern = r'\\b\\d{2}-\\d{2}-\\d{4}\\b'\n",
    "\n",
    "matches = re.findall(pattern, text)\n",
    "\n",
    "print(\"Dates found:\")\n",
    "for match in matches:\n",
    "    print(match)\n"
   ]
  },
  {
   "cell_type": "markdown",
   "id": "f33300dc",
   "metadata": {},
   "source": [
    "## Regex3"
   ]
  },
  {
   "cell_type": "code",
   "execution_count": 15,
   "id": "83010ba8",
   "metadata": {},
   "outputs": [
    {
     "name": "stdout",
     "output_type": "stream",
     "text": [
      "Hashtags found:\n",
      "#country\n",
      "#newyork\n"
     ]
    }
   ],
   "source": [
    "import re\n",
    "\n",
    "text = \"Loving the #country and the great vibes of #newyork!\"\n",
    "\n",
    "pattern = r'#\\w+'\n",
    "\n",
    "matches = re.findall(pattern, text)\n",
    "\n",
    "print(\"Hashtags found:\")\n",
    "for match in matches:\n",
    "    print(match)\n"
   ]
  },
  {
   "cell_type": "markdown",
   "id": "d63f2c9d",
   "metadata": {},
   "source": [
    "## Regex4"
   ]
  },
  {
   "cell_type": "code",
   "execution_count": 16,
   "id": "0fd90cea",
   "metadata": {},
   "outputs": [
    {
     "name": "stdout",
     "output_type": "stream",
     "text": [
      "Invalid password.\n"
     ]
    }
   ],
   "source": [
    "import re\n",
    "\n",
    "text = \"Your new password is whydoyouneedit!\"\n",
    "\n",
    "pattern = r'(?=.*[a-zA-Z])(?=.*[0-9])(?=.*[!@#$%^&*])[a-zA-Z0-9!@#$%^&*]{8,}'\n",
    "\n",
    "matches = re.search(pattern, text)\n",
    "\n",
    "if matches:\n",
    "    print(\"Valid password.\")\n",
    "else:\n",
    "    print(\"Invalid password.\")\n"
   ]
  },
  {
   "cell_type": "markdown",
   "id": "81e66d14",
   "metadata": {},
   "source": [
    "## Regex5"
   ]
  },
  {
   "cell_type": "code",
   "execution_count": 17,
   "id": "a936fec2",
   "metadata": {},
   "outputs": [
    {
     "name": "stdout",
     "output_type": "stream",
     "text": [
      "HTML tags found:\n",
      "div\n",
      "p\n"
     ]
    }
   ],
   "source": [
    "import re\n",
    "\n",
    "text = \"<div>Welcome to our new york.</div><p>Enjoy your stay!</p>\"\n",
    "\n",
    "pattern = r'<([a-z]+)>.*?</\\1>'\n",
    "\n",
    "matches = re.findall(pattern, text)\n",
    "\n",
    "print(\"HTML tags found:\")\n",
    "for match in matches:\n",
    "    print(match)\n"
   ]
  },
  {
   "cell_type": "code",
   "execution_count": null,
   "id": "b00ef5e9",
   "metadata": {},
   "outputs": [],
   "source": []
  },
  {
   "cell_type": "code",
   "execution_count": null,
   "id": "b71d837a",
   "metadata": {},
   "outputs": [],
   "source": []
  }
 ],
 "metadata": {
  "kernelspec": {
   "display_name": "Python 3 (ipykernel)",
   "language": "python",
   "name": "python3"
  },
  "language_info": {
   "codemirror_mode": {
    "name": "ipython",
    "version": 3
   },
   "file_extension": ".py",
   "mimetype": "text/x-python",
   "name": "python",
   "nbconvert_exporter": "python",
   "pygments_lexer": "ipython3",
   "version": "3.11.5"
  }
 },
 "nbformat": 4,
 "nbformat_minor": 5
}
